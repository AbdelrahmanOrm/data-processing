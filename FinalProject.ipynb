{
 "cells": [
  {
   "cell_type": "markdown",
   "metadata": {},
   "source": [
    "## Abdelrahman Osama Radwan"
   ]
  },
  {
   "cell_type": "code",
   "execution_count": 1,
   "metadata": {},
   "outputs": [],
   "source": [
    "import pandas as pd"
   ]
  },
  {
   "cell_type": "markdown",
   "metadata": {},
   "source": [
    "### Read Data"
   ]
  },
  {
   "cell_type": "code",
   "execution_count": 2,
   "metadata": {},
   "outputs": [
    {
     "data": {
      "text/plain": [
       "(2500, 7)"
      ]
     },
     "execution_count": 2,
     "metadata": {},
     "output_type": "execute_result"
    }
   ],
   "source": [
    "data = pd.read_csv('data1.csv')\n",
    "df = data.copy()\n",
    "df.shape"
   ]
  },
  {
   "cell_type": "code",
   "execution_count": 3,
   "metadata": {},
   "outputs": [
    {
     "data": {
      "text/html": [
       "<div>\n",
       "<style scoped>\n",
       "    .dataframe tbody tr th:only-of-type {\n",
       "        vertical-align: middle;\n",
       "    }\n",
       "\n",
       "    .dataframe tbody tr th {\n",
       "        vertical-align: top;\n",
       "    }\n",
       "\n",
       "    .dataframe thead th {\n",
       "        text-align: right;\n",
       "    }\n",
       "</style>\n",
       "<table border=\"1\" class=\"dataframe\">\n",
       "  <thead>\n",
       "    <tr style=\"text-align: right;\">\n",
       "      <th></th>\n",
       "      <th>name</th>\n",
       "      <th>city</th>\n",
       "      <th>salary</th>\n",
       "      <th>education</th>\n",
       "      <th>age</th>\n",
       "      <th>socialtype</th>\n",
       "      <th>year</th>\n",
       "    </tr>\n",
       "  </thead>\n",
       "  <tbody>\n",
       "    <tr>\n",
       "      <th>0</th>\n",
       "      <td>Mohamed Youssef</td>\n",
       "      <td>Assiut</td>\n",
       "      <td>113181.0</td>\n",
       "      <td>Tourism Studies</td>\n",
       "      <td>25</td>\n",
       "      <td>Married</td>\n",
       "      <td>2019</td>\n",
       "    </tr>\n",
       "    <tr>\n",
       "      <th>1</th>\n",
       "      <td>Mariam Ali</td>\n",
       "      <td>Shubra El Kheima</td>\n",
       "      <td>NaN</td>\n",
       "      <td>Computer Science and Information Technology</td>\n",
       "      <td>34</td>\n",
       "      <td>Divorced</td>\n",
       "      <td>2019</td>\n",
       "    </tr>\n",
       "    <tr>\n",
       "      <th>2</th>\n",
       "      <td>Amir Salem</td>\n",
       "      <td>Alexandria</td>\n",
       "      <td>10996.0</td>\n",
       "      <td>Economics and Political Science</td>\n",
       "      <td>30</td>\n",
       "      <td>Married</td>\n",
       "      <td>2019</td>\n",
       "    </tr>\n",
       "    <tr>\n",
       "      <th>3</th>\n",
       "      <td>Mohsen El-Bakry</td>\n",
       "      <td>Suez</td>\n",
       "      <td>NaN</td>\n",
       "      <td>Architecture</td>\n",
       "      <td>40</td>\n",
       "      <td>Divorced</td>\n",
       "      <td>2019</td>\n",
       "    </tr>\n",
       "    <tr>\n",
       "      <th>4</th>\n",
       "      <td>Amir Osman</td>\n",
       "      <td>Zagazig</td>\n",
       "      <td>NaN</td>\n",
       "      <td>Education</td>\n",
       "      <td>53</td>\n",
       "      <td>Divorced</td>\n",
       "      <td>2019</td>\n",
       "    </tr>\n",
       "  </tbody>\n",
       "</table>\n",
       "</div>"
      ],
      "text/plain": [
       "              name              city    salary   \n",
       "0  Mohamed Youssef            Assiut  113181.0  \\\n",
       "1       Mariam Ali  Shubra El Kheima       NaN   \n",
       "2       Amir Salem        Alexandria   10996.0   \n",
       "3  Mohsen El-Bakry              Suez       NaN   \n",
       "4       Amir Osman           Zagazig       NaN   \n",
       "\n",
       "                                     education  age socialtype  year  \n",
       "0                              Tourism Studies   25    Married  2019  \n",
       "1  Computer Science and Information Technology   34   Divorced  2019  \n",
       "2              Economics and Political Science   30    Married  2019  \n",
       "3                                 Architecture   40   Divorced  2019  \n",
       "4                                    Education   53   Divorced  2019  "
      ]
     },
     "execution_count": 3,
     "metadata": {},
     "output_type": "execute_result"
    }
   ],
   "source": [
    "df.head()"
   ]
  },
  {
   "cell_type": "code",
   "execution_count": 4,
   "metadata": {},
   "outputs": [
    {
     "data": {
      "text/html": [
       "<div>\n",
       "<style scoped>\n",
       "    .dataframe tbody tr th:only-of-type {\n",
       "        vertical-align: middle;\n",
       "    }\n",
       "\n",
       "    .dataframe tbody tr th {\n",
       "        vertical-align: top;\n",
       "    }\n",
       "\n",
       "    .dataframe thead th {\n",
       "        text-align: right;\n",
       "    }\n",
       "</style>\n",
       "<table border=\"1\" class=\"dataframe\">\n",
       "  <thead>\n",
       "    <tr style=\"text-align: right;\">\n",
       "      <th></th>\n",
       "      <th>name</th>\n",
       "      <th>city</th>\n",
       "      <th>salary</th>\n",
       "      <th>education</th>\n",
       "      <th>age</th>\n",
       "      <th>socialtype</th>\n",
       "      <th>year</th>\n",
       "    </tr>\n",
       "  </thead>\n",
       "  <tbody>\n",
       "    <tr>\n",
       "      <th>2495</th>\n",
       "      <td>Magdy Ramadan</td>\n",
       "      <td>Alexandria</td>\n",
       "      <td>70199.0</td>\n",
       "      <td>Law</td>\n",
       "      <td>46</td>\n",
       "      <td>Single</td>\n",
       "      <td>2023</td>\n",
       "    </tr>\n",
       "    <tr>\n",
       "      <th>2496</th>\n",
       "      <td>Kamal Mahmoudi</td>\n",
       "      <td>Alexandria</td>\n",
       "      <td>11374.0</td>\n",
       "      <td>Civil Aviation</td>\n",
       "      <td>40</td>\n",
       "      <td>Married</td>\n",
       "      <td>2023</td>\n",
       "    </tr>\n",
       "    <tr>\n",
       "      <th>2497</th>\n",
       "      <td>Nermine Saad</td>\n",
       "      <td>Alexandria</td>\n",
       "      <td>57022.0</td>\n",
       "      <td>Public Relations and Advertising</td>\n",
       "      <td>21</td>\n",
       "      <td>Widowed</td>\n",
       "      <td>2023</td>\n",
       "    </tr>\n",
       "    <tr>\n",
       "      <th>2498</th>\n",
       "      <td>Wafaa El-Gabry</td>\n",
       "      <td>Mansoura</td>\n",
       "      <td>33862.0</td>\n",
       "      <td>Architecture</td>\n",
       "      <td>55</td>\n",
       "      <td>Divorced</td>\n",
       "      <td>2023</td>\n",
       "    </tr>\n",
       "    <tr>\n",
       "      <th>2499</th>\n",
       "      <td>Nadia Nour</td>\n",
       "      <td>Aswan</td>\n",
       "      <td>32823.0</td>\n",
       "      <td>Nursing</td>\n",
       "      <td>51</td>\n",
       "      <td>Widowed</td>\n",
       "      <td>2023</td>\n",
       "    </tr>\n",
       "  </tbody>\n",
       "</table>\n",
       "</div>"
      ],
      "text/plain": [
       "                name        city   salary                         education   \n",
       "2495   Magdy Ramadan  Alexandria  70199.0                               Law  \\\n",
       "2496  Kamal Mahmoudi  Alexandria  11374.0                    Civil Aviation   \n",
       "2497    Nermine Saad  Alexandria  57022.0  Public Relations and Advertising   \n",
       "2498  Wafaa El-Gabry    Mansoura  33862.0                      Architecture   \n",
       "2499      Nadia Nour       Aswan  32823.0                           Nursing   \n",
       "\n",
       "      age socialtype  year  \n",
       "2495   46     Single  2023  \n",
       "2496   40    Married  2023  \n",
       "2497   21    Widowed  2023  \n",
       "2498   55   Divorced  2023  \n",
       "2499   51    Widowed  2023  "
      ]
     },
     "execution_count": 4,
     "metadata": {},
     "output_type": "execute_result"
    }
   ],
   "source": [
    "df.tail()"
   ]
  },
  {
   "cell_type": "markdown",
   "metadata": {},
   "source": [
    "### Capitalize column names"
   ]
  },
  {
   "cell_type": "code",
   "execution_count": 5,
   "metadata": {},
   "outputs": [
    {
     "data": {
      "text/plain": [
       "Index(['name', 'city', 'salary', 'education', 'age', 'socialtype', 'year'], dtype='object')"
      ]
     },
     "execution_count": 5,
     "metadata": {},
     "output_type": "execute_result"
    }
   ],
   "source": [
    "df.columns"
   ]
  },
  {
   "cell_type": "code",
   "execution_count": 6,
   "metadata": {},
   "outputs": [
    {
     "data": {
      "text/html": [
       "<div>\n",
       "<style scoped>\n",
       "    .dataframe tbody tr th:only-of-type {\n",
       "        vertical-align: middle;\n",
       "    }\n",
       "\n",
       "    .dataframe tbody tr th {\n",
       "        vertical-align: top;\n",
       "    }\n",
       "\n",
       "    .dataframe thead th {\n",
       "        text-align: right;\n",
       "    }\n",
       "</style>\n",
       "<table border=\"1\" class=\"dataframe\">\n",
       "  <thead>\n",
       "    <tr style=\"text-align: right;\">\n",
       "      <th></th>\n",
       "      <th>NAME</th>\n",
       "      <th>CITY</th>\n",
       "      <th>SALARY</th>\n",
       "      <th>EDUCATION</th>\n",
       "      <th>AGE</th>\n",
       "      <th>SOCIALTYPE</th>\n",
       "      <th>YEAR</th>\n",
       "    </tr>\n",
       "  </thead>\n",
       "  <tbody>\n",
       "    <tr>\n",
       "      <th>1486</th>\n",
       "      <td>Sherif Ali</td>\n",
       "      <td>Damietta</td>\n",
       "      <td>104195.0</td>\n",
       "      <td>Pharmacy</td>\n",
       "      <td>24</td>\n",
       "      <td>Single</td>\n",
       "      <td>2022</td>\n",
       "    </tr>\n",
       "  </tbody>\n",
       "</table>\n",
       "</div>"
      ],
      "text/plain": [
       "            NAME      CITY    SALARY EDUCATION  AGE SOCIALTYPE  YEAR\n",
       "1486  Sherif Ali  Damietta  104195.0  Pharmacy   24     Single  2022"
      ]
     },
     "execution_count": 6,
     "metadata": {},
     "output_type": "execute_result"
    }
   ],
   "source": [
    "df.columns = df.columns.str.upper()\n",
    "df.sample()"
   ]
  },
  {
   "cell_type": "markdown",
   "metadata": {},
   "source": [
    "### Rename"
   ]
  },
  {
   "cell_type": "code",
   "execution_count": 7,
   "metadata": {},
   "outputs": [
    {
     "data": {
      "text/html": [
       "<div>\n",
       "<style scoped>\n",
       "    .dataframe tbody tr th:only-of-type {\n",
       "        vertical-align: middle;\n",
       "    }\n",
       "\n",
       "    .dataframe tbody tr th {\n",
       "        vertical-align: top;\n",
       "    }\n",
       "\n",
       "    .dataframe thead th {\n",
       "        text-align: right;\n",
       "    }\n",
       "</style>\n",
       "<table border=\"1\" class=\"dataframe\">\n",
       "  <thead>\n",
       "    <tr style=\"text-align: right;\">\n",
       "      <th></th>\n",
       "      <th>NAME</th>\n",
       "      <th>CITY</th>\n",
       "      <th>SALARY</th>\n",
       "      <th>EDUCATION</th>\n",
       "      <th>AGE</th>\n",
       "      <th>MARITAL_STATUS</th>\n",
       "      <th>YEAR</th>\n",
       "    </tr>\n",
       "  </thead>\n",
       "  <tbody>\n",
       "    <tr>\n",
       "      <th>1711</th>\n",
       "      <td>Youssef Hassan</td>\n",
       "      <td>Port Said</td>\n",
       "      <td>135733.0</td>\n",
       "      <td>Environmental Agriculture</td>\n",
       "      <td>22</td>\n",
       "      <td>Divorced</td>\n",
       "      <td>2022</td>\n",
       "    </tr>\n",
       "  </tbody>\n",
       "</table>\n",
       "</div>"
      ],
      "text/plain": [
       "                NAME       CITY    SALARY                  EDUCATION  AGE   \n",
       "1711  Youssef Hassan  Port Said  135733.0  Environmental Agriculture   22  \\\n",
       "\n",
       "     MARITAL_STATUS  YEAR  \n",
       "1711       Divorced  2022  "
      ]
     },
     "execution_count": 7,
     "metadata": {},
     "output_type": "execute_result"
    }
   ],
   "source": [
    "df = df.rename(columns={'SOCIALTYPE' : 'MARITAL_STATUS'})\n",
    "df.sample()"
   ]
  },
  {
   "cell_type": "markdown",
   "metadata": {},
   "source": [
    "### Full analysis"
   ]
  },
  {
   "cell_type": "code",
   "execution_count": 8,
   "metadata": {},
   "outputs": [
    {
     "name": "stdout",
     "output_type": "stream",
     "text": [
      "<class 'pandas.core.frame.DataFrame'>\n",
      "RangeIndex: 2500 entries, 0 to 2499\n",
      "Data columns (total 7 columns):\n",
      " #   Column          Non-Null Count  Dtype  \n",
      "---  ------          --------------  -----  \n",
      " 0   NAME            2500 non-null   object \n",
      " 1   CITY            2463 non-null   object \n",
      " 2   SALARY          2286 non-null   float64\n",
      " 3   EDUCATION       2475 non-null   object \n",
      " 4   AGE             2500 non-null   int64  \n",
      " 5   MARITAL_STATUS  2500 non-null   object \n",
      " 6   YEAR            2500 non-null   int64  \n",
      "dtypes: float64(1), int64(2), object(4)\n",
      "memory usage: 136.8+ KB\n"
     ]
    }
   ],
   "source": [
    "df.info()"
   ]
  },
  {
   "cell_type": "code",
   "execution_count": 9,
   "metadata": {},
   "outputs": [
    {
     "data": {
      "text/html": [
       "<div>\n",
       "<style scoped>\n",
       "    .dataframe tbody tr th:only-of-type {\n",
       "        vertical-align: middle;\n",
       "    }\n",
       "\n",
       "    .dataframe tbody tr th {\n",
       "        vertical-align: top;\n",
       "    }\n",
       "\n",
       "    .dataframe thead th {\n",
       "        text-align: right;\n",
       "    }\n",
       "</style>\n",
       "<table border=\"1\" class=\"dataframe\">\n",
       "  <thead>\n",
       "    <tr style=\"text-align: right;\">\n",
       "      <th></th>\n",
       "      <th>SALARY</th>\n",
       "      <th>AGE</th>\n",
       "      <th>YEAR</th>\n",
       "    </tr>\n",
       "  </thead>\n",
       "  <tbody>\n",
       "    <tr>\n",
       "      <th>count</th>\n",
       "      <td>2.286000e+03</td>\n",
       "      <td>2500.000000</td>\n",
       "      <td>2500.000000</td>\n",
       "    </tr>\n",
       "    <tr>\n",
       "      <th>mean</th>\n",
       "      <td>9.292273e+04</td>\n",
       "      <td>40.473200</td>\n",
       "      <td>2020.855200</td>\n",
       "    </tr>\n",
       "    <tr>\n",
       "      <th>std</th>\n",
       "      <td>4.219795e+05</td>\n",
       "      <td>11.772133</td>\n",
       "      <td>1.212774</td>\n",
       "    </tr>\n",
       "    <tr>\n",
       "      <th>min</th>\n",
       "      <td>2.015000e+03</td>\n",
       "      <td>21.000000</td>\n",
       "      <td>2019.000000</td>\n",
       "    </tr>\n",
       "    <tr>\n",
       "      <th>25%</th>\n",
       "      <td>3.933125e+04</td>\n",
       "      <td>30.000000</td>\n",
       "      <td>2020.000000</td>\n",
       "    </tr>\n",
       "    <tr>\n",
       "      <th>50%</th>\n",
       "      <td>7.598450e+04</td>\n",
       "      <td>41.000000</td>\n",
       "      <td>2021.000000</td>\n",
       "    </tr>\n",
       "    <tr>\n",
       "      <th>75%</th>\n",
       "      <td>1.115112e+05</td>\n",
       "      <td>51.000000</td>\n",
       "      <td>2022.000000</td>\n",
       "    </tr>\n",
       "    <tr>\n",
       "      <th>max</th>\n",
       "      <td>1.293290e+07</td>\n",
       "      <td>60.000000</td>\n",
       "      <td>2023.000000</td>\n",
       "    </tr>\n",
       "  </tbody>\n",
       "</table>\n",
       "</div>"
      ],
      "text/plain": [
       "             SALARY          AGE         YEAR\n",
       "count  2.286000e+03  2500.000000  2500.000000\n",
       "mean   9.292273e+04    40.473200  2020.855200\n",
       "std    4.219795e+05    11.772133     1.212774\n",
       "min    2.015000e+03    21.000000  2019.000000\n",
       "25%    3.933125e+04    30.000000  2020.000000\n",
       "50%    7.598450e+04    41.000000  2021.000000\n",
       "75%    1.115112e+05    51.000000  2022.000000\n",
       "max    1.293290e+07    60.000000  2023.000000"
      ]
     },
     "execution_count": 9,
     "metadata": {},
     "output_type": "execute_result"
    }
   ],
   "source": [
    "df.describe()"
   ]
  },
  {
   "cell_type": "code",
   "execution_count": 10,
   "metadata": {},
   "outputs": [
    {
     "data": {
      "text/plain": [
       "(2500, 7)"
      ]
     },
     "execution_count": 10,
     "metadata": {},
     "output_type": "execute_result"
    }
   ],
   "source": [
    "df.shape"
   ]
  },
  {
   "cell_type": "code",
   "execution_count": 11,
   "metadata": {},
   "outputs": [
    {
     "data": {
      "text/plain": [
       "NAME                0\n",
       "CITY               37\n",
       "SALARY            214\n",
       "EDUCATION          25\n",
       "AGE                 0\n",
       "MARITAL_STATUS      0\n",
       "YEAR                0\n",
       "dtype: int64"
      ]
     },
     "execution_count": 11,
     "metadata": {},
     "output_type": "execute_result"
    }
   ],
   "source": [
    "df.isnull().sum()"
   ]
  },
  {
   "cell_type": "code",
   "execution_count": 12,
   "metadata": {},
   "outputs": [
    {
     "data": {
      "text/plain": [
       "SALARY\n",
       "68595.0    2\n",
       "46667.0    2\n",
       "93984.0    2\n",
       "Name: count, dtype: int64"
      ]
     },
     "execution_count": 12,
     "metadata": {},
     "output_type": "execute_result"
    }
   ],
   "source": [
    "df['SALARY'].value_counts().nlargest(3)"
   ]
  },
  {
   "cell_type": "code",
   "execution_count": 13,
   "metadata": {},
   "outputs": [
    {
     "data": {
      "text/plain": [
       "AGE\n",
       "28    88\n",
       "55    82\n",
       "50    73\n",
       "Name: count, dtype: int64"
      ]
     },
     "execution_count": 13,
     "metadata": {},
     "output_type": "execute_result"
    }
   ],
   "source": [
    "df['AGE'].value_counts().nlargest(3)\n"
   ]
  },
  {
   "cell_type": "code",
   "execution_count": 14,
   "metadata": {},
   "outputs": [
    {
     "data": {
      "text/html": [
       "<div>\n",
       "<style scoped>\n",
       "    .dataframe tbody tr th:only-of-type {\n",
       "        vertical-align: middle;\n",
       "    }\n",
       "\n",
       "    .dataframe tbody tr th {\n",
       "        vertical-align: top;\n",
       "    }\n",
       "\n",
       "    .dataframe thead th {\n",
       "        text-align: right;\n",
       "    }\n",
       "</style>\n",
       "<table border=\"1\" class=\"dataframe\">\n",
       "  <thead>\n",
       "    <tr style=\"text-align: right;\">\n",
       "      <th></th>\n",
       "      <th>SALARY</th>\n",
       "      <th>AGE</th>\n",
       "    </tr>\n",
       "  </thead>\n",
       "  <tbody>\n",
       "    <tr>\n",
       "      <th>SALARY</th>\n",
       "      <td>1.000000</td>\n",
       "      <td>-0.024457</td>\n",
       "    </tr>\n",
       "    <tr>\n",
       "      <th>AGE</th>\n",
       "      <td>-0.024457</td>\n",
       "      <td>1.000000</td>\n",
       "    </tr>\n",
       "  </tbody>\n",
       "</table>\n",
       "</div>"
      ],
      "text/plain": [
       "          SALARY       AGE\n",
       "SALARY  1.000000 -0.024457\n",
       "AGE    -0.024457  1.000000"
      ]
     },
     "execution_count": 14,
     "metadata": {},
     "output_type": "execute_result"
    }
   ],
   "source": [
    "df[['SALARY','AGE']].corr()"
   ]
  },
  {
   "cell_type": "code",
   "execution_count": 15,
   "metadata": {},
   "outputs": [
    {
     "data": {
      "text/html": [
       "<div>\n",
       "<style scoped>\n",
       "    .dataframe tbody tr th:only-of-type {\n",
       "        vertical-align: middle;\n",
       "    }\n",
       "\n",
       "    .dataframe tbody tr th {\n",
       "        vertical-align: top;\n",
       "    }\n",
       "\n",
       "    .dataframe thead th {\n",
       "        text-align: right;\n",
       "    }\n",
       "</style>\n",
       "<table border=\"1\" class=\"dataframe\">\n",
       "  <thead>\n",
       "    <tr style=\"text-align: right;\">\n",
       "      <th></th>\n",
       "      <th>NAME</th>\n",
       "      <th>CITY</th>\n",
       "      <th>SALARY</th>\n",
       "      <th>EDUCATION</th>\n",
       "      <th>AGE</th>\n",
       "      <th>MARITAL_STATUS</th>\n",
       "      <th>YEAR</th>\n",
       "    </tr>\n",
       "  </thead>\n",
       "  <tbody>\n",
       "    <tr>\n",
       "      <th>2021</th>\n",
       "      <td>Mariam Ibrahim</td>\n",
       "      <td>Beni Suef</td>\n",
       "      <td>101473.0</td>\n",
       "      <td>Civil Aviation</td>\n",
       "      <td>59</td>\n",
       "      <td>Married</td>\n",
       "      <td>2022</td>\n",
       "    </tr>\n",
       "  </tbody>\n",
       "</table>\n",
       "</div>"
      ],
      "text/plain": [
       "                NAME       CITY    SALARY       EDUCATION  AGE MARITAL_STATUS   \n",
       "2021  Mariam Ibrahim  Beni Suef  101473.0  Civil Aviation   59        Married  \\\n",
       "\n",
       "      YEAR  \n",
       "2021  2022  "
      ]
     },
     "execution_count": 15,
     "metadata": {},
     "output_type": "execute_result"
    }
   ],
   "source": [
    "df.sample()"
   ]
  },
  {
   "cell_type": "markdown",
   "metadata": {},
   "source": [
    "## Convert all columns to suitable types & Fixing null values"
   ]
  },
  {
   "cell_type": "code",
   "execution_count": 16,
   "metadata": {},
   "outputs": [
    {
     "data": {
      "text/html": [
       "<div>\n",
       "<style scoped>\n",
       "    .dataframe tbody tr th:only-of-type {\n",
       "        vertical-align: middle;\n",
       "    }\n",
       "\n",
       "    .dataframe tbody tr th {\n",
       "        vertical-align: top;\n",
       "    }\n",
       "\n",
       "    .dataframe thead th {\n",
       "        text-align: right;\n",
       "    }\n",
       "</style>\n",
       "<table border=\"1\" class=\"dataframe\">\n",
       "  <thead>\n",
       "    <tr style=\"text-align: right;\">\n",
       "      <th></th>\n",
       "      <th>NAME</th>\n",
       "      <th>CITY</th>\n",
       "      <th>SALARY</th>\n",
       "      <th>EDUCATION</th>\n",
       "      <th>AGE</th>\n",
       "      <th>MARITAL_STATUS</th>\n",
       "      <th>YEAR</th>\n",
       "    </tr>\n",
       "  </thead>\n",
       "  <tbody>\n",
       "    <tr>\n",
       "      <th>0</th>\n",
       "      <td>Mohamed Youssef</td>\n",
       "      <td>Assiut</td>\n",
       "      <td>113181.0</td>\n",
       "      <td>Tourism Studies</td>\n",
       "      <td>25</td>\n",
       "      <td>Married</td>\n",
       "      <td>2019</td>\n",
       "    </tr>\n",
       "    <tr>\n",
       "      <th>1</th>\n",
       "      <td>Mariam Ali</td>\n",
       "      <td>Shubra El Kheima</td>\n",
       "      <td>NaN</td>\n",
       "      <td>Computer Science and Information Technology</td>\n",
       "      <td>34</td>\n",
       "      <td>Divorced</td>\n",
       "      <td>2019</td>\n",
       "    </tr>\n",
       "    <tr>\n",
       "      <th>2</th>\n",
       "      <td>Amir Salem</td>\n",
       "      <td>Alexandria</td>\n",
       "      <td>10996.0</td>\n",
       "      <td>Economics and Political Science</td>\n",
       "      <td>30</td>\n",
       "      <td>Married</td>\n",
       "      <td>2019</td>\n",
       "    </tr>\n",
       "    <tr>\n",
       "      <th>3</th>\n",
       "      <td>Mohsen El-Bakry</td>\n",
       "      <td>Suez</td>\n",
       "      <td>NaN</td>\n",
       "      <td>Architecture</td>\n",
       "      <td>40</td>\n",
       "      <td>Divorced</td>\n",
       "      <td>2019</td>\n",
       "    </tr>\n",
       "    <tr>\n",
       "      <th>4</th>\n",
       "      <td>Amir Osman</td>\n",
       "      <td>Zagazig</td>\n",
       "      <td>NaN</td>\n",
       "      <td>Education</td>\n",
       "      <td>53</td>\n",
       "      <td>Divorced</td>\n",
       "      <td>2019</td>\n",
       "    </tr>\n",
       "    <tr>\n",
       "      <th>...</th>\n",
       "      <td>...</td>\n",
       "      <td>...</td>\n",
       "      <td>...</td>\n",
       "      <td>...</td>\n",
       "      <td>...</td>\n",
       "      <td>...</td>\n",
       "      <td>...</td>\n",
       "    </tr>\n",
       "    <tr>\n",
       "      <th>2495</th>\n",
       "      <td>Magdy Ramadan</td>\n",
       "      <td>Alexandria</td>\n",
       "      <td>70199.0</td>\n",
       "      <td>Law</td>\n",
       "      <td>46</td>\n",
       "      <td>Single</td>\n",
       "      <td>2023</td>\n",
       "    </tr>\n",
       "    <tr>\n",
       "      <th>2496</th>\n",
       "      <td>Kamal Mahmoudi</td>\n",
       "      <td>Alexandria</td>\n",
       "      <td>11374.0</td>\n",
       "      <td>Civil Aviation</td>\n",
       "      <td>40</td>\n",
       "      <td>Married</td>\n",
       "      <td>2023</td>\n",
       "    </tr>\n",
       "    <tr>\n",
       "      <th>2497</th>\n",
       "      <td>Nermine Saad</td>\n",
       "      <td>Alexandria</td>\n",
       "      <td>57022.0</td>\n",
       "      <td>Public Relations and Advertising</td>\n",
       "      <td>21</td>\n",
       "      <td>Widowed</td>\n",
       "      <td>2023</td>\n",
       "    </tr>\n",
       "    <tr>\n",
       "      <th>2498</th>\n",
       "      <td>Wafaa El-Gabry</td>\n",
       "      <td>Mansoura</td>\n",
       "      <td>33862.0</td>\n",
       "      <td>Architecture</td>\n",
       "      <td>55</td>\n",
       "      <td>Divorced</td>\n",
       "      <td>2023</td>\n",
       "    </tr>\n",
       "    <tr>\n",
       "      <th>2499</th>\n",
       "      <td>Nadia Nour</td>\n",
       "      <td>Aswan</td>\n",
       "      <td>32823.0</td>\n",
       "      <td>Nursing</td>\n",
       "      <td>51</td>\n",
       "      <td>Widowed</td>\n",
       "      <td>2023</td>\n",
       "    </tr>\n",
       "  </tbody>\n",
       "</table>\n",
       "<p>2500 rows × 7 columns</p>\n",
       "</div>"
      ],
      "text/plain": [
       "                 NAME              CITY    SALARY   \n",
       "0     Mohamed Youssef            Assiut  113181.0  \\\n",
       "1          Mariam Ali  Shubra El Kheima       NaN   \n",
       "2          Amir Salem        Alexandria   10996.0   \n",
       "3     Mohsen El-Bakry              Suez       NaN   \n",
       "4          Amir Osman           Zagazig       NaN   \n",
       "...               ...               ...       ...   \n",
       "2495    Magdy Ramadan        Alexandria   70199.0   \n",
       "2496   Kamal Mahmoudi        Alexandria   11374.0   \n",
       "2497     Nermine Saad        Alexandria   57022.0   \n",
       "2498   Wafaa El-Gabry          Mansoura   33862.0   \n",
       "2499       Nadia Nour             Aswan   32823.0   \n",
       "\n",
       "                                        EDUCATION  AGE MARITAL_STATUS  YEAR  \n",
       "0                                 Tourism Studies   25        Married  2019  \n",
       "1     Computer Science and Information Technology   34       Divorced  2019  \n",
       "2                 Economics and Political Science   30        Married  2019  \n",
       "3                                    Architecture   40       Divorced  2019  \n",
       "4                                       Education   53       Divorced  2019  \n",
       "...                                           ...  ...            ...   ...  \n",
       "2495                                          Law   46         Single  2023  \n",
       "2496                               Civil Aviation   40        Married  2023  \n",
       "2497             Public Relations and Advertising   21        Widowed  2023  \n",
       "2498                                 Architecture   55       Divorced  2023  \n",
       "2499                                      Nursing   51        Widowed  2023  \n",
       "\n",
       "[2500 rows x 7 columns]"
      ]
     },
     "execution_count": 16,
     "metadata": {},
     "output_type": "execute_result"
    }
   ],
   "source": [
    "column_types = {'AGE' : 'int',\n",
    "                'MARITAL_STATUS' : 'category',\n",
    "                'EDUCATION':'category',\n",
    "                'NAME' : 'str',\n",
    "                'CITY' : 'category',\n",
    "                'SALARY' : 'float',\n",
    "                'YEAR' : 'int'}\n",
    "df.astype(column_types)"
   ]
  },
  {
   "cell_type": "code",
   "execution_count": 17,
   "metadata": {},
   "outputs": [
    {
     "data": {
      "text/plain": [
       "NAME               0\n",
       "CITY              37\n",
       "SALARY             0\n",
       "EDUCATION         25\n",
       "AGE                0\n",
       "MARITAL_STATUS     0\n",
       "YEAR               0\n",
       "dtype: int64"
      ]
     },
     "execution_count": 17,
     "metadata": {},
     "output_type": "execute_result"
    }
   ],
   "source": [
    "df = df.fillna(value={'SALARY': df['SALARY'].mean()})\n",
    "# df = df.fillna()\n",
    "df.isnull().sum()"
   ]
  },
  {
   "cell_type": "code",
   "execution_count": 18,
   "metadata": {},
   "outputs": [
    {
     "data": {
      "text/html": [
       "<div>\n",
       "<style scoped>\n",
       "    .dataframe tbody tr th:only-of-type {\n",
       "        vertical-align: middle;\n",
       "    }\n",
       "\n",
       "    .dataframe tbody tr th {\n",
       "        vertical-align: top;\n",
       "    }\n",
       "\n",
       "    .dataframe thead th {\n",
       "        text-align: right;\n",
       "    }\n",
       "</style>\n",
       "<table border=\"1\" class=\"dataframe\">\n",
       "  <thead>\n",
       "    <tr style=\"text-align: right;\">\n",
       "      <th></th>\n",
       "      <th>NAME</th>\n",
       "      <th>CITY</th>\n",
       "      <th>SALARY</th>\n",
       "      <th>EDUCATION</th>\n",
       "      <th>AGE</th>\n",
       "      <th>MARITAL_STATUS</th>\n",
       "      <th>YEAR</th>\n",
       "    </tr>\n",
       "  </thead>\n",
       "  <tbody>\n",
       "    <tr>\n",
       "      <th>894</th>\n",
       "      <td>Hassan Nour</td>\n",
       "      <td>Minya</td>\n",
       "      <td>39664.0</td>\n",
       "      <td>Tourism Studies</td>\n",
       "      <td>32</td>\n",
       "      <td>Single</td>\n",
       "      <td>2020</td>\n",
       "    </tr>\n",
       "  </tbody>\n",
       "</table>\n",
       "</div>"
      ],
      "text/plain": [
       "            NAME   CITY   SALARY        EDUCATION  AGE MARITAL_STATUS  YEAR\n",
       "894  Hassan Nour  Minya  39664.0  Tourism Studies   32         Single  2020"
      ]
     },
     "execution_count": 18,
     "metadata": {},
     "output_type": "execute_result"
    }
   ],
   "source": [
    "df.sample()"
   ]
  },
  {
   "cell_type": "code",
   "execution_count": 19,
   "metadata": {},
   "outputs": [
    {
     "data": {
      "text/plain": [
       "NAME               0\n",
       "CITY              37\n",
       "SALARY             0\n",
       "EDUCATION         25\n",
       "AGE                0\n",
       "MARITAL_STATUS     0\n",
       "YEAR               0\n",
       "dtype: int64"
      ]
     },
     "execution_count": 19,
     "metadata": {},
     "output_type": "execute_result"
    }
   ],
   "source": [
    "\n",
    "df.isnull().sum()"
   ]
  },
  {
   "cell_type": "code",
   "execution_count": 20,
   "metadata": {},
   "outputs": [
    {
     "data": {
      "text/plain": [
       "NAME              0\n",
       "CITY              0\n",
       "SALARY            0\n",
       "EDUCATION         0\n",
       "AGE               0\n",
       "MARITAL_STATUS    0\n",
       "YEAR              0\n",
       "dtype: int64"
      ]
     },
     "execution_count": 20,
     "metadata": {},
     "output_type": "execute_result"
    }
   ],
   "source": [
    "df = df.dropna()\n",
    "df.isnull().sum()"
   ]
  },
  {
   "cell_type": "markdown",
   "metadata": {},
   "source": [
    "### How many average salaries by year"
   ]
  },
  {
   "cell_type": "code",
   "execution_count": 21,
   "metadata": {},
   "outputs": [
    {
     "data": {
      "text/plain": [
       "YEAR\n",
       "2019    158762.244180\n",
       "2020     77721.883097\n",
       "2021     76354.662890\n",
       "2022     77100.543119\n",
       "2023     59976.384615\n",
       "Name: SALARY, dtype: float64"
      ]
     },
     "execution_count": 21,
     "metadata": {},
     "output_type": "execute_result"
    }
   ],
   "source": [
    "avg_salary_per_year = df.groupby('YEAR')['SALARY'].mean()\n",
    "avg_salary_per_year"
   ]
  },
  {
   "cell_type": "code",
   "execution_count": 22,
   "metadata": {},
   "outputs": [
    {
     "data": {
      "text/plain": [
       "CITY\n",
       "Alexandria           77591.942349\n",
       "Assiut               70028.243867\n",
       "Aswan               186620.122544\n",
       "Asyut                74682.370223\n",
       "Beni Suef            75105.584284\n",
       "Cairo                77717.171108\n",
       "Damietta             77912.288027\n",
       "Giza                 83052.056698\n",
       "Ismailia             87553.369637\n",
       "Kafr El Sheikh       78532.916581\n",
       "Luxor               134270.900543\n",
       "Mansoura             90636.376873\n",
       "Minya               115943.719160\n",
       "Port Said            72654.200763\n",
       "Qena                 73616.258185\n",
       "Shubra El Kheima     76746.628066\n",
       "Sohag                82021.790525\n",
       "Suez                178123.190810\n",
       "Tanta                80059.466459\n",
       "Zagazig              78595.164186\n",
       "Name: SALARY, dtype: float64"
      ]
     },
     "execution_count": 22,
     "metadata": {},
     "output_type": "execute_result"
    }
   ],
   "source": [
    "avg_salary_per_city = df.groupby('CITY')['SALARY'].mean()\n",
    "avg_salary_per_city"
   ]
  },
  {
   "cell_type": "markdown",
   "metadata": {},
   "source": [
    "### The most education"
   ]
  },
  {
   "cell_type": "code",
   "execution_count": 23,
   "metadata": {},
   "outputs": [
    {
     "data": {
      "text/plain": [
       "0    Public Relations and Advertising\n",
       "Name: EDUCATION, dtype: object"
      ]
     },
     "execution_count": 23,
     "metadata": {},
     "output_type": "execute_result"
    }
   ],
   "source": [
    "df['EDUCATION'].mode()"
   ]
  },
  {
   "cell_type": "code",
   "execution_count": 24,
   "metadata": {},
   "outputs": [],
   "source": [
    "df.to_csv('data1_final.csv')"
   ]
  },
  {
   "cell_type": "markdown",
   "metadata": {},
   "source": [
    "## Bonus Part"
   ]
  },
  {
   "cell_type": "code",
   "execution_count": 25,
   "metadata": {},
   "outputs": [
    {
     "data": {
      "text/html": [
       "<div>\n",
       "<style scoped>\n",
       "    .dataframe tbody tr th:only-of-type {\n",
       "        vertical-align: middle;\n",
       "    }\n",
       "\n",
       "    .dataframe tbody tr th {\n",
       "        vertical-align: top;\n",
       "    }\n",
       "\n",
       "    .dataframe thead th {\n",
       "        text-align: right;\n",
       "    }\n",
       "</style>\n",
       "<table border=\"1\" class=\"dataframe\">\n",
       "  <thead>\n",
       "    <tr style=\"text-align: right;\">\n",
       "      <th></th>\n",
       "      <th>YEAR</th>\n",
       "      <th>GDP</th>\n",
       "    </tr>\n",
       "  </thead>\n",
       "  <tbody>\n",
       "    <tr>\n",
       "      <th>0</th>\n",
       "      <td>2019</td>\n",
       "      <td>1.2</td>\n",
       "    </tr>\n",
       "    <tr>\n",
       "      <th>1</th>\n",
       "      <td>2020</td>\n",
       "      <td>2.1</td>\n",
       "    </tr>\n",
       "    <tr>\n",
       "      <th>2</th>\n",
       "      <td>2021</td>\n",
       "      <td>3.0</td>\n",
       "    </tr>\n",
       "    <tr>\n",
       "      <th>3</th>\n",
       "      <td>2022</td>\n",
       "      <td>2.5</td>\n",
       "    </tr>\n",
       "    <tr>\n",
       "      <th>4</th>\n",
       "      <td>2023</td>\n",
       "      <td>4.0</td>\n",
       "    </tr>\n",
       "  </tbody>\n",
       "</table>\n",
       "</div>"
      ],
      "text/plain": [
       "   YEAR  GDP\n",
       "0  2019  1.2\n",
       "1  2020  2.1\n",
       "2  2021  3.0\n",
       "3  2022  2.5\n",
       "4  2023  4.0"
      ]
     },
     "execution_count": 25,
     "metadata": {},
     "output_type": "execute_result"
    }
   ],
   "source": [
    "d1 = {'YEAR':2019, 'GDP':1.2}\n",
    "d2 = {'YEAR':2020, 'GDP':2.1}\n",
    "d3 = {'YEAR':2021, 'GDP':3}\n",
    "d4 = {'YEAR':2022, 'GDP':2.5}\n",
    "d5 = {'YEAR':2023, 'GDP':4}\n",
    "\n",
    "df2 = pd.DataFrame([d1, d2, d3, d4, d5])\n",
    "df2"
   ]
  },
  {
   "cell_type": "code",
   "execution_count": 26,
   "metadata": {},
   "outputs": [
    {
     "data": {
      "text/html": [
       "<div>\n",
       "<style scoped>\n",
       "    .dataframe tbody tr th:only-of-type {\n",
       "        vertical-align: middle;\n",
       "    }\n",
       "\n",
       "    .dataframe tbody tr th {\n",
       "        vertical-align: top;\n",
       "    }\n",
       "\n",
       "    .dataframe thead th {\n",
       "        text-align: right;\n",
       "    }\n",
       "</style>\n",
       "<table border=\"1\" class=\"dataframe\">\n",
       "  <thead>\n",
       "    <tr style=\"text-align: right;\">\n",
       "      <th></th>\n",
       "      <th>NAME</th>\n",
       "      <th>CITY</th>\n",
       "      <th>SALARY</th>\n",
       "      <th>EDUCATION</th>\n",
       "      <th>AGE</th>\n",
       "      <th>MARITAL_STATUS</th>\n",
       "      <th>YEAR</th>\n",
       "      <th>GDP</th>\n",
       "    </tr>\n",
       "  </thead>\n",
       "  <tbody>\n",
       "    <tr>\n",
       "      <th>1491</th>\n",
       "      <td>Amir Mahmoud</td>\n",
       "      <td>Cairo</td>\n",
       "      <td>121775.000000</td>\n",
       "      <td>Applied Sciences</td>\n",
       "      <td>27</td>\n",
       "      <td>Married</td>\n",
       "      <td>2022</td>\n",
       "      <td>2.5</td>\n",
       "    </tr>\n",
       "    <tr>\n",
       "      <th>219</th>\n",
       "      <td>Marwa El-Khouly</td>\n",
       "      <td>Zagazig</td>\n",
       "      <td>21833.000000</td>\n",
       "      <td>Pharmacy</td>\n",
       "      <td>22</td>\n",
       "      <td>Widowed</td>\n",
       "      <td>2019</td>\n",
       "      <td>1.2</td>\n",
       "    </tr>\n",
       "    <tr>\n",
       "      <th>584</th>\n",
       "      <td>Hoda Ezzat</td>\n",
       "      <td>Ismailia</td>\n",
       "      <td>92922.731409</td>\n",
       "      <td>Tourism Studies</td>\n",
       "      <td>35</td>\n",
       "      <td>Divorced</td>\n",
       "      <td>2020</td>\n",
       "      <td>2.1</td>\n",
       "    </tr>\n",
       "    <tr>\n",
       "      <th>1522</th>\n",
       "      <td>Ashraf Fawzy</td>\n",
       "      <td>Tanta</td>\n",
       "      <td>38963.000000</td>\n",
       "      <td>Architecture</td>\n",
       "      <td>33</td>\n",
       "      <td>Divorced</td>\n",
       "      <td>2022</td>\n",
       "      <td>2.5</td>\n",
       "    </tr>\n",
       "    <tr>\n",
       "      <th>2332</th>\n",
       "      <td>Mohamed Abdelhak</td>\n",
       "      <td>Qena</td>\n",
       "      <td>6839.000000</td>\n",
       "      <td>Nursing</td>\n",
       "      <td>34</td>\n",
       "      <td>Widowed</td>\n",
       "      <td>2022</td>\n",
       "      <td>2.5</td>\n",
       "    </tr>\n",
       "    <tr>\n",
       "      <th>460</th>\n",
       "      <td>Emad El-Khouly</td>\n",
       "      <td>Giza</td>\n",
       "      <td>41417.000000</td>\n",
       "      <td>Agriculture</td>\n",
       "      <td>29</td>\n",
       "      <td>Married</td>\n",
       "      <td>2019</td>\n",
       "      <td>1.2</td>\n",
       "    </tr>\n",
       "    <tr>\n",
       "      <th>1272</th>\n",
       "      <td>Sara Abdullah</td>\n",
       "      <td>Port Said</td>\n",
       "      <td>66252.000000</td>\n",
       "      <td>Tourism Studies</td>\n",
       "      <td>59</td>\n",
       "      <td>Widowed</td>\n",
       "      <td>2021</td>\n",
       "      <td>3.0</td>\n",
       "    </tr>\n",
       "    <tr>\n",
       "      <th>2406</th>\n",
       "      <td>Wafaa Ramadan</td>\n",
       "      <td>Beni Suef</td>\n",
       "      <td>82734.000000</td>\n",
       "      <td>Education</td>\n",
       "      <td>58</td>\n",
       "      <td>Widowed</td>\n",
       "      <td>2022</td>\n",
       "      <td>2.5</td>\n",
       "    </tr>\n",
       "    <tr>\n",
       "      <th>2090</th>\n",
       "      <td>Omar Ahmed</td>\n",
       "      <td>Assiut</td>\n",
       "      <td>46789.000000</td>\n",
       "      <td>Commerce</td>\n",
       "      <td>41</td>\n",
       "      <td>Single</td>\n",
       "      <td>2022</td>\n",
       "      <td>2.5</td>\n",
       "    </tr>\n",
       "  </tbody>\n",
       "</table>\n",
       "</div>"
      ],
      "text/plain": [
       "                  NAME       CITY         SALARY         EDUCATION  AGE   \n",
       "1491      Amir Mahmoud      Cairo  121775.000000  Applied Sciences   27  \\\n",
       "219    Marwa El-Khouly    Zagazig   21833.000000          Pharmacy   22   \n",
       "584         Hoda Ezzat   Ismailia   92922.731409   Tourism Studies   35   \n",
       "1522      Ashraf Fawzy      Tanta   38963.000000      Architecture   33   \n",
       "2332  Mohamed Abdelhak       Qena    6839.000000           Nursing   34   \n",
       "460     Emad El-Khouly       Giza   41417.000000       Agriculture   29   \n",
       "1272     Sara Abdullah  Port Said   66252.000000   Tourism Studies   59   \n",
       "2406     Wafaa Ramadan  Beni Suef   82734.000000         Education   58   \n",
       "2090        Omar Ahmed     Assiut   46789.000000          Commerce   41   \n",
       "\n",
       "     MARITAL_STATUS  YEAR  GDP  \n",
       "1491        Married  2022  2.5  \n",
       "219         Widowed  2019  1.2  \n",
       "584        Divorced  2020  2.1  \n",
       "1522       Divorced  2022  2.5  \n",
       "2332        Widowed  2022  2.5  \n",
       "460         Married  2019  1.2  \n",
       "1272        Widowed  2021  3.0  \n",
       "2406        Widowed  2022  2.5  \n",
       "2090         Single  2022  2.5  "
      ]
     },
     "execution_count": 26,
     "metadata": {},
     "output_type": "execute_result"
    }
   ],
   "source": [
    "NewData = pd.merge(df, df2, how='left')\n",
    "NewData.sample(9)"
   ]
  },
  {
   "cell_type": "markdown",
   "metadata": {},
   "source": [
    "# Visualization"
   ]
  },
  {
   "cell_type": "code",
   "execution_count": 27,
   "metadata": {},
   "outputs": [],
   "source": [
    "import matplotlib.pyplot as plt \n",
    "%matplotlib inline  \n",
    "import seaborn as sns"
   ]
  },
  {
   "cell_type": "code",
   "execution_count": 28,
   "metadata": {},
   "outputs": [
    {
     "data": {
      "image/png": "[encoded data removed]",
      "text/plain": [
       "<Figure size 640x480 with 1 Axes>"
      ]
     },
     "metadata": {},
     "output_type": "display_data"
    }
   ],
   "source": [
    "top_paid_jobs = df.groupby('EDUCATION')['SALARY'].mean().nlargest(3) \n",
    "\n",
    "bar_labels = ['red', 'blue',\n",
    "            #    '_red',\n",
    "                 'orange'\n",
    "                 ]\n",
    "bar_colors = ['tab:red', 'tab:blue',\n",
    "            #    'tab:red',\n",
    "                 'tab:orange'\n",
    "                 ]\n",
    "\n",
    "plt.bar(x=top_paid_jobs.index,\n",
    "        height=top_paid_jobs.values,\n",
    "\n",
    "        label=bar_labels,\n",
    "        color=bar_colors\n",
    "        ) \n",
    "\n",
    "plt.xticks(rotation=45)\n",
    "plt.xlabel('EDUCATION')\n",
    "plt.ylabel('SALARY')\n",
    "plt.title('Top 3 Paid Jobs by Salary')\n",
    "plt.show()\n"
   ]
  },
  {
   "cell_type": "code",
   "execution_count": 29,
   "metadata": {},
   "outputs": [
    {
     "data": {
      "image/png": "[encoded data removed]",
      "text/plain": [
       "<Figure size 640x480 with 1 Axes>"
      ]
     },
     "metadata": {},
     "output_type": "display_data"
    }
   ],
   "source": [
    "avg_salary_city = df.groupby('CITY')['SALARY'].mean()\n",
    "\n",
    "plt.pie(avg_salary_city,\n",
    "        labels = avg_salary_city.index,\n",
    "        autopct='%1.0f%%'\n",
    "        )\n",
    "plt.title('Salaries Distribution over Cities')\n",
    "plt.show()"
   ]
  },
  {
   "cell_type": "code",
   "execution_count": 30,
   "metadata": {},
   "outputs": [
    {
     "data": {
      "image/png": "[encoded data removed]",
      "text/plain": [
       "<Figure size 1000x600 with 1 Axes>"
      ]
     },
     "metadata": {},
     "output_type": "display_data"
    }
   ],
   "source": [
    "plt.figure(figsize=(10, 6)) \n",
    "import seaborn as sns\n",
    "\n",
    "sns.boxplot(x='MARITAL_STATUS', y='AGE', data=df) #Bi varite\n",
    "\n",
    "plt.xticks(rotation=90) \n",
    "\n",
    "plt.title('Marital status to Age') \n",
    "plt.show()"
   ]
  },
  {
   "cell_type": "code",
   "execution_count": 31,
   "metadata": {},
   "outputs": [
    {
     "data": {
      "text/html": [
       "<div>\n",
       "<style scoped>\n",
       "    .dataframe tbody tr th:only-of-type {\n",
       "        vertical-align: middle;\n",
       "    }\n",
       "\n",
       "    .dataframe tbody tr th {\n",
       "        vertical-align: top;\n",
       "    }\n",
       "\n",
       "    .dataframe thead th {\n",
       "        text-align: right;\n",
       "    }\n",
       "</style>\n",
       "<table border=\"1\" class=\"dataframe\">\n",
       "  <thead>\n",
       "    <tr style=\"text-align: right;\">\n",
       "      <th></th>\n",
       "      <th>NAME</th>\n",
       "      <th>CITY</th>\n",
       "      <th>SALARY</th>\n",
       "      <th>EDUCATION</th>\n",
       "      <th>AGE</th>\n",
       "      <th>MARITAL_STATUS</th>\n",
       "      <th>YEAR</th>\n",
       "    </tr>\n",
       "  </thead>\n",
       "  <tbody>\n",
       "    <tr>\n",
       "      <th>2008</th>\n",
       "      <td>Amir Gamal</td>\n",
       "      <td>Shubra El Kheima</td>\n",
       "      <td>63247.0</td>\n",
       "      <td>Environmental Agriculture</td>\n",
       "      <td>27</td>\n",
       "      <td>Divorced</td>\n",
       "      <td>2022</td>\n",
       "    </tr>\n",
       "  </tbody>\n",
       "</table>\n",
       "</div>"
      ],
      "text/plain": [
       "            NAME              CITY   SALARY                  EDUCATION  AGE   \n",
       "2008  Amir Gamal  Shubra El Kheima  63247.0  Environmental Agriculture   27  \\\n",
       "\n",
       "     MARITAL_STATUS  YEAR  \n",
       "2008       Divorced  2022  "
      ]
     },
     "execution_count": 31,
     "metadata": {},
     "output_type": "execute_result"
    }
   ],
   "source": [
    "df.sample()"
   ]
  },
  {
   "cell_type": "code",
   "execution_count": 32,
   "metadata": {},
   "outputs": [
    {
     "data": {
      "image/png": "[encoded data removed]",
      "text/plain": [
       "<Figure size 640x480 with 1 Axes>"
      ]
     },
     "metadata": {},
     "output_type": "display_data"
    }
   ],
   "source": [
    "year_to_GDP = NewData.groupby('YEAR')['GDP'].mean()\n",
    "\n",
    "plt.pie(year_to_GDP,\n",
    "        labels=year_to_GDP.index,\n",
    "        autopct='%1.1f%%', \n",
    "        wedgeprops=dict(width=0.6)\n",
    "               ) \n",
    "\n",
    "plt.title('GDP per year') \n",
    "plt.axis('equal')\n",
    "plt.show()"
   ]
  },
  {
   "cell_type": "code",
   "execution_count": 33,
   "metadata": {},
   "outputs": [],
   "source": [
    "import plotly.express as px "
   ]
  },
  {
   "cell_type": "code",
   "execution_count": 34,
   "metadata": {},
   "outputs": [
    {
     "data": {
      "image/png": "[encoded data removed]",
      "text/plain": [
       "<Figure size 640x480 with 1 Axes>"
      ]
     },
     "metadata": {},
     "output_type": "display_data"
    }
   ],
   "source": [
    "plt.hist(df['AGE'], bins=80) \n",
    "\n",
    "plt.xlabel('Age') \n",
    "plt.ylabel('Frequency') \n",
    "plt.title('Age Distribution') \n",
    "plt.show()"
   ]
  },
  {
   "cell_type": "code",
   "execution_count": 35,
   "metadata": {},
   "outputs": [
    {
     "data": {
      "text/plain": [
       "0    28\n",
       "Name: AGE, dtype: int64"
      ]
     },
     "execution_count": 35,
     "metadata": {},
     "output_type": "execute_result"
    }
   ],
   "source": [
    "df['AGE'].mode()"
   ]
  },
  {
   "cell_type": "code",
   "execution_count": null,
   "metadata": {},
   "outputs": [],
   "source": []
  }
 ],
 "metadata": {
  "kernelspec": {
   "display_name": "Python 3",
   "language": "python",
   "name": "python3"
  },
  "language_info": {
   "codemirror_mode": {
    "name": "ipython",
    "version": 3
   },
   "file_extension": ".py",
   "mimetype": "text/x-python",
   "name": "python",
   "nbconvert_exporter": "python",
   "pygments_lexer": "ipython3",
   "version": "3.9.13"
  }
 },
 "nbformat": 4,
 "nbformat_minor": 2
}
